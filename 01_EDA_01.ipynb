{
  "nbformat": 4,
  "nbformat_minor": 0,
  "metadata": {
    "colab": {
      "name": "01.EDA_01.ipynb",
      "provenance": [],
      "authorship_tag": "ABX9TyMeCa76BwpiN5X0qn/wWxK+",
      "include_colab_link": true
    },
    "kernelspec": {
      "name": "python3",
      "display_name": "Python 3"
    },
    "language_info": {
      "name": "python"
    }
  },
  "cells": [
    {
      "cell_type": "markdown",
      "metadata": {
        "id": "view-in-github",
        "colab_type": "text"
      },
      "source": [
        "<a href=\"https://colab.research.google.com/github/hwanython/kaggle-chestXray-penumonia/blob/main/01_EDA_01.ipynb\" target=\"_parent\"><img src=\"https://colab.research.google.com/assets/colab-badge.svg\" alt=\"Open In Colab\"/></a>"
      ]
    },
    {
      "cell_type": "code",
      "execution_count": null,
      "metadata": {
        "id": "FiO16n5yahTo"
      },
      "outputs": [],
      "source": [
        "from google.colab import drive"
      ]
    },
    {
      "cell_type": "code",
      "source": [
        "drive.mount('/content/drive')"
      ],
      "metadata": {
        "colab": {
          "base_uri": "https://localhost:8080/"
        },
        "id": "7pwXrccpFEAN",
        "outputId": "1c71b791-b2da-4725-8732-ddc4bc35a5b2"
      },
      "execution_count": null,
      "outputs": [
        {
          "output_type": "stream",
          "name": "stdout",
          "text": [
            "Mounted at /content/drive\n"
          ]
        }
      ]
    },
    {
      "cell_type": "code",
      "source": [
        "import os\n",
        "data_dir = '/content/drive/MyDrive/AI/01.Kaggle/Chest_X_ray_image/data/chest_xray'\n",
        "train_dir = os.path.join(data_dir, 'train')\n",
        "test_dir = os.path.join(data_dir, 'test')\n",
        "\n",
        "print(train_dir)"
      ],
      "metadata": {
        "colab": {
          "base_uri": "https://localhost:8080/"
        },
        "id": "PC01OEdHFN7N",
        "outputId": "c193f2c7-f438-4058-c057-906b2c695130"
      },
      "execution_count": null,
      "outputs": [
        {
          "output_type": "stream",
          "name": "stdout",
          "text": [
            "/content/drive/MyDrive/AI/01.Kaggle/Chest_X_ray_image/data/chest_xray/train\n"
          ]
        }
      ]
    },
    {
      "cell_type": "code",
      "source": [
        "train_normal_dir = os.path.join(train_dir, \"NORMAL\")\n",
        "train_pneumonia_dir = os.path.join(train_dir, \"PNEUMONIA\")\n",
        "test_normal_dir = os.path.join(test_dir, \"NORMAL\")\n",
        "test_pneumonia_dir = os.path.join(test_dir, \"PNEUMONIA\")"
      ],
      "metadata": {
        "id": "MPq8e_4hGJ2c"
      },
      "execution_count": null,
      "outputs": []
    },
    {
      "cell_type": "code",
      "source": [
        "train_data = os.listdir(train_normal_dir) + os.listdir(train_pneumonia_dir)\n",
        "test_data = os.listdir(test_normal_dir) + os.listdir(test_pneumonia_dir)\n",
        "\n",
        "print('Number of train images:', len(train_data))\n",
        "print('Number of test images:', len(test_data))\n"
      ],
      "metadata": {
        "colab": {
          "base_uri": "https://localhost:8080/"
        },
        "id": "IjUh0IMzGQKr",
        "outputId": "31d0f365-e820-49f9-85ee-e4003634721e"
      },
      "execution_count": null,
      "outputs": [
        {
          "output_type": "stream",
          "name": "stdout",
          "text": [
            "Number of train images: 5216\n",
            "Number of test images: 624\n"
          ]
        }
      ]
    },
    {
      "cell_type": "code",
      "source": [
        "import matplotlib.pyplot as plt"
      ],
      "metadata": {
        "id": "KkXmT35UGSDD"
      },
      "execution_count": null,
      "outputs": []
    },
    {
      "cell_type": "code",
      "source": [
        "# train data vs test data\n",
        "plt.bar(\"train_data\", len(train_data))\n",
        "plt.bar(\"test_data\", len(test_data))\n",
        "plt.show()"
      ],
      "metadata": {
        "id": "t0KKO0MCHNlF",
        "outputId": "dd22d994-bfef-41e6-c27e-94fc697ae8a8",
        "colab": {
          "base_uri": "https://localhost:8080/",
          "height": 265
        }
      },
      "execution_count": null,
      "outputs": [
        {
          "output_type": "display_data",
          "data": {
            "image/png": "[encoded data removed]",
            "text/plain": [
              "<Figure size 432x288 with 1 Axes>"
            ]
          },
          "metadata": {
            "needs_background": "light"
          }
        }
      ]
    },
    {
      "cell_type": "code",
      "source": [
        "# Normal vs pneumonia\n",
        "plt.bar(\"NORMAL\", len(os.listdir(train_normal_dir)))\n",
        "plt.bar(\"PNEUMONIA\", len(os.listdir(train_pneumonia_dir)))\n",
        "plt.show()"
      ],
      "metadata": {
        "id": "YWY44Wp0HR8E",
        "outputId": "74cfaabe-bd56-4fb9-fddc-1102e1bef94a",
        "colab": {
          "base_uri": "https://localhost:8080/",
          "height": 265
        }
      },
      "execution_count": null,
      "outputs": [
        {
          "output_type": "display_data",
          "data": {
            "image/png": "[encoded data removed]",
            "text/plain": [
              "<Figure size 432x288 with 1 Axes>"
            ]
          },
          "metadata": {
            "needs_background": "light"
          }
        }
      ]
    }
  ]
}
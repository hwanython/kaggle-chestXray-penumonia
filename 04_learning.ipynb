{
  "nbformat": 4,
  "nbformat_minor": 0,
  "metadata": {
    "colab": {
      "name": "04.learning.ipynb",
      "provenance": [],
      "collapsed_sections": [],
      "authorship_tag": "ABX9TyP0z5XdH19vtJvv3vr4R0XO",
      "include_colab_link": true
    },
    "kernelspec": {
      "name": "python3",
      "display_name": "Python 3"
    },
    "language_info": {
      "name": "python"
    },
    "accelerator": "GPU"
  },
  "cells": [
    {
      "cell_type": "markdown",
      "metadata": {
        "id": "view-in-github",
        "colab_type": "text"
      },
      "source": [
        "<a href=\"https://colab.research.google.com/github/hwanython/kaggle-chestXray-penumonia/blob/main/04_learning.ipynb\" target=\"_parent\"><img src=\"https://colab.research.google.com/assets/colab-badge.svg\" alt=\"Open In Colab\"/></a>"
      ]
    },
    {
      "cell_type": "code",
      "source": [
        "from google.colab import drive\n",
        "drive.mount('/content/drive')"
      ],
      "metadata": {
        "colab": {
          "base_uri": "https://localhost:8080/"
        },
        "id": "N7S9AEtyS4ry",
        "outputId": "c1b20f7e-0b3b-4391-8608-11cca4628b18"
      },
      "execution_count": 2,
      "outputs": [
        {
          "output_type": "stream",
          "name": "stdout",
          "text": [
            "Mounted at /content/drive\n"
          ]
        }
      ]
    },
    {
      "cell_type": "code",
      "execution_count": 3,
      "metadata": {
        "id": "YwW_TMnpLaUD"
      },
      "outputs": [],
      "source": [
        "import tensorflow.keras\n",
        "import os\n",
        "from tensorflow.keras.preprocessing import image_dataset_from_directory\n",
        "from tensorflow.keras.preprocessing.image import ImageDataGenerator"
      ]
    },
    {
      "cell_type": "code",
      "source": [
        "data_dir = '/content/drive/MyDrive/AI/01.Kaggle/Chest_X_ray_image/data/chest_xray'\n",
        "train_dir = os.path.join(data_dir, 'train')\n",
        "val_dir = os.path.join(data_dir, 'val')"
      ],
      "metadata": {
        "id": "a2QfdRY2Sg2x"
      },
      "execution_count": 4,
      "outputs": []
    },
    {
      "cell_type": "code",
      "source": [
        "batch_size = 16\n",
        "epochs = 15\n",
        "IMG_HEIGHT = 150\n",
        "IMG_WIDTH = 150"
      ],
      "metadata": {
        "id": "6hFLLMZjvOHH"
      },
      "execution_count": 5,
      "outputs": []
    },
    {
      "cell_type": "code",
      "source": [
        "train_datagen = ImageDataGenerator(rescale=1./255, shear_range=10, zoom_range=0.2, horizontal_flip=True, width_shift_range=0.2)\n",
        "\n",
        "train_generator = train_datagen.flow_from_directory(\n",
        "    train_dir, shuffle=True,\n",
        "    target_size=(IMG_HEIGHT,IMG_WIDTH),\n",
        "    batch_size = batch_size,\n",
        "    class_mode ='binary'\n",
        ")\n",
        "val_generator = train_datagen.flow_from_directory(\n",
        "    val_dir, shuffle=True,\n",
        "    target_size=(IMG_HEIGHT,IMG_WIDTH),\n",
        "    batch_size = batch_size,\n",
        "    class_mode ='binary'\n",
        ")"
      ],
      "metadata": {
        "colab": {
          "base_uri": "https://localhost:8080/"
        },
        "id": "NLUZ9V4EMgzc",
        "outputId": "9e7c5f4a-66ff-43f6-9967-81dfbd7fa72e"
      },
      "execution_count": 6,
      "outputs": [
        {
          "output_type": "stream",
          "name": "stdout",
          "text": [
            "Found 3652 images belonging to 2 classes.\n",
            "Found 1580 images belonging to 2 classes.\n"
          ]
        }
      ]
    },
    {
      "cell_type": "code",
      "source": [
        "from tensorflow.keras.applications import VGG16\n",
        "from tensorflow.keras import layers\n",
        "from tensorflow.keras.layers import Dropout, BatchNormalization, GlobalAveragePooling2D, Conv2D, MaxPooling2D, Flatten, Dense\n",
        "from tensorflow.keras.models import Model, Sequential\n",
        "from tensorflow.keras.optimizers import Adam\n",
        "from tensorflow.keras.regularizers import L2"
      ],
      "metadata": {
        "id": "W0T4f7QjS1ar"
      },
      "execution_count": 7,
      "outputs": []
    },
    {
      "cell_type": "code",
      "source": [
        "conv_base = VGG16(include_top = False,weights='imagenet')\n",
        "for i in conv_base.layers:\n",
        "  i.trainable =False\n",
        "X = conv_base.output\n",
        "X = tensorflow.keras.layers.GlobalAveragePooling2D()(X)\n",
        "X = tensorflow.keras.layers.Dense(128, activation='relu')(X)\n",
        "prediction_layer = tensorflow.keras.layers.Dense(1, activation='sigmoid')(X)\n",
        "\n",
        "model = tensorflow.keras.Model(conv_base.input, prediction_layer)\n",
        "\n",
        "model.summary()"
      ],
      "metadata": {
        "colab": {
          "base_uri": "https://localhost:8080/"
        },
        "id": "eFQhIYubUh6K",
        "outputId": "9b2d91f3-76d4-4698-ae97-930d524ec672"
      },
      "execution_count": 8,
      "outputs": [
        {
          "output_type": "stream",
          "name": "stdout",
          "text": [
            "Downloading data from https://storage.googleapis.com/tensorflow/keras-applications/vgg16/vgg16_weights_tf_dim_ordering_tf_kernels_notop.h5\n",
            "58892288/58889256 [==============================] - 1s 0us/step\n",
            "58900480/58889256 [==============================] - 1s 0us/step\n",
            "Model: \"model\"\n",
            "_________________________________________________________________\n",
            " Layer (type)                Output Shape              Param #   \n",
            "=================================================================\n",
            " input_1 (InputLayer)        [(None, None, None, 3)]   0         \n",
            "                                                                 \n",
            " block1_conv1 (Conv2D)       (None, None, None, 64)    1792      \n",
            "                                                                 \n",
            " block1_conv2 (Conv2D)       (None, None, None, 64)    36928     \n",
            "                                                                 \n",
            " block1_pool (MaxPooling2D)  (None, None, None, 64)    0         \n",
            "                                                                 \n",
            " block2_conv1 (Conv2D)       (None, None, None, 128)   73856     \n",
            "                                                                 \n",
            " block2_conv2 (Conv2D)       (None, None, None, 128)   147584    \n",
            "                                                                 \n",
            " block2_pool (MaxPooling2D)  (None, None, None, 128)   0         \n",
            "                                                                 \n",
            " block3_conv1 (Conv2D)       (None, None, None, 256)   295168    \n",
            "                                                                 \n",
            " block3_conv2 (Conv2D)       (None, None, None, 256)   590080    \n",
            "                                                                 \n",
            " block3_conv3 (Conv2D)       (None, None, None, 256)   590080    \n",
            "                                                                 \n",
            " block3_pool (MaxPooling2D)  (None, None, None, 256)   0         \n",
            "                                                                 \n",
            " block4_conv1 (Conv2D)       (None, None, None, 512)   1180160   \n",
            "                                                                 \n",
            " block4_conv2 (Conv2D)       (None, None, None, 512)   2359808   \n",
            "                                                                 \n",
            " block4_conv3 (Conv2D)       (None, None, None, 512)   2359808   \n",
            "                                                                 \n",
            " block4_pool (MaxPooling2D)  (None, None, None, 512)   0         \n",
            "                                                                 \n",
            " block5_conv1 (Conv2D)       (None, None, None, 512)   2359808   \n",
            "                                                                 \n",
            " block5_conv2 (Conv2D)       (None, None, None, 512)   2359808   \n",
            "                                                                 \n",
            " block5_conv3 (Conv2D)       (None, None, None, 512)   2359808   \n",
            "                                                                 \n",
            " block5_pool (MaxPooling2D)  (None, None, None, 512)   0         \n",
            "                                                                 \n",
            " global_average_pooling2d (G  (None, 512)              0         \n",
            " lobalAveragePooling2D)                                          \n",
            "                                                                 \n",
            " dense (Dense)               (None, 128)               65664     \n",
            "                                                                 \n",
            " dense_1 (Dense)             (None, 1)                 129       \n",
            "                                                                 \n",
            "=================================================================\n",
            "Total params: 14,780,481\n",
            "Trainable params: 65,793\n",
            "Non-trainable params: 14,714,688\n",
            "_________________________________________________________________\n"
          ]
        }
      ]
    },
    {
      "cell_type": "code",
      "source": [
        "model.compile(optimizer='adam',\n",
        "              loss='binary_crossentropy',\n",
        "              metrics=['acc'])"
      ],
      "metadata": {
        "id": "bKjJlU7209cW"
      },
      "execution_count": 9,
      "outputs": []
    },
    {
      "cell_type": "markdown",
      "source": [
        "# 콜백 사용"
      ],
      "metadata": {
        "id": "6eLx6O51fqTA"
      }
    },
    {
      "cell_type": "code",
      "source": [
        "from tensorflow.keras.callbacks import ModelCheckpoint, ReduceLROnPlateau, EarlyStopping\n",
        "import os\n",
        "import tensorflow as tf\n",
        "\n",
        "def checkpoint(ckpt_dir, monitor):\n",
        "    if not os.path.exists(ckpt_dir):\n",
        "        os.makedirs(ckpt_dir, exist_ok=True)\n",
        "    path = os.path.join(ckpt_dir, \"ep{epoch:02d}-loss{loss:.4f}-acc{acc:.4f}-val_loss{val_loss:.4f}-val_acc{val_acc:.4f}.h5\")\n",
        "    ckpt = ModelCheckpoint(\n",
        "        filepath=path, monitor=monitor, verbose=1, save_best_only=True,\n",
        "        save_weights_only=False, mode='auto', save_freq='epoch',\n",
        "        options=None)\n",
        "    return ckpt\n",
        "\n",
        "def ES(patience):\n",
        "    callback = EarlyStopping(monitor='val_loss', patience=patience)\n",
        "    return callback\n",
        "    \n",
        "def reducelr():\n",
        "    lr = ReduceLROnPlateau(\n",
        "        monitor='val_loss',\n",
        "        factor=0.1,\n",
        "        patience=12,\n",
        "        min_lr=1e-8\n",
        "    )\n",
        "    return lr"
      ],
      "metadata": {
        "id": "Oz63UbW_ftVr"
      },
      "execution_count": 10,
      "outputs": []
    },
    {
      "cell_type": "code",
      "source": [
        "ckpt_dir = '/content/drive/MyDrive/AI/01.Kaggle/Chest_X_ray_image/data/chest_xray/ckpt_model'"
      ],
      "metadata": {
        "id": "sJ-D6DKC-jEc"
      },
      "execution_count": 11,
      "outputs": []
    },
    {
      "cell_type": "code",
      "source": [
        "history = model.fit(\n",
        "    train_generator, \n",
        "    steps_per_epoch = 100,\n",
        "    epochs = 20,\n",
        "    validation_data = val_generator,\n",
        "    verbose=1, callbacks=[checkpoint(ckpt_dir,'val_acc'), ES(10), reducelr()])"
      ],
      "metadata": {
        "colab": {
          "base_uri": "https://localhost:8080/"
        },
        "id": "m0_WRSyaVvdc",
        "outputId": "1c6a04e5-a704-4830-d5ff-72db37d638e2"
      },
      "execution_count": 12,
      "outputs": [
        {
          "output_type": "stream",
          "name": "stdout",
          "text": [
            "Epoch 1/20\n",
            "100/100 [==============================] - ETA: 0s - loss: 0.4387 - acc: 0.7950\n",
            "Epoch 00001: val_acc improved from -inf to 0.85443, saving model to /content/drive/MyDrive/AI/01.Kaggle/Chest_X_ray_image/data/chest_xray/ckpt_model/ep01-loss0.4387-acc0.7950-val_loss0.3251-val_acc0.8544.h5\n",
            "100/100 [==============================] - 481s 5s/step - loss: 0.4387 - acc: 0.7950 - val_loss: 0.3251 - val_acc: 0.8544 - lr: 0.0010\n",
            "Epoch 2/20\n",
            "100/100 [==============================] - ETA: 0s - loss: 0.2781 - acc: 0.8917\n",
            "Epoch 00002: val_acc improved from 0.85443 to 0.88544, saving model to /content/drive/MyDrive/AI/01.Kaggle/Chest_X_ray_image/data/chest_xray/ckpt_model/ep02-loss0.2781-acc0.8917-val_loss0.2593-val_acc0.8854.h5\n",
            "100/100 [==============================] - 127s 1s/step - loss: 0.2781 - acc: 0.8917 - val_loss: 0.2593 - val_acc: 0.8854 - lr: 0.0010\n",
            "Epoch 3/20\n",
            "100/100 [==============================] - ETA: 0s - loss: 0.2321 - acc: 0.9062\n",
            "Epoch 00003: val_acc improved from 0.88544 to 0.90949, saving model to /content/drive/MyDrive/AI/01.Kaggle/Chest_X_ray_image/data/chest_xray/ckpt_model/ep03-loss0.2321-acc0.9062-val_loss0.2285-val_acc0.9095.h5\n",
            "100/100 [==============================] - 93s 931ms/step - loss: 0.2321 - acc: 0.9062 - val_loss: 0.2285 - val_acc: 0.9095 - lr: 0.0010\n",
            "Epoch 4/20\n",
            "100/100 [==============================] - ETA: 0s - loss: 0.2228 - acc: 0.9106\n",
            "Epoch 00004: val_acc did not improve from 0.90949\n",
            "100/100 [==============================] - 85s 850ms/step - loss: 0.2228 - acc: 0.9106 - val_loss: 0.2231 - val_acc: 0.9082 - lr: 0.0010\n",
            "Epoch 5/20\n",
            "100/100 [==============================] - ETA: 0s - loss: 0.2087 - acc: 0.9125\n",
            "Epoch 00005: val_acc improved from 0.90949 to 0.92848, saving model to /content/drive/MyDrive/AI/01.Kaggle/Chest_X_ray_image/data/chest_xray/ckpt_model/ep05-loss0.2087-acc0.9125-val_loss0.1887-val_acc0.9285.h5\n",
            "100/100 [==============================] - 81s 812ms/step - loss: 0.2087 - acc: 0.9125 - val_loss: 0.1887 - val_acc: 0.9285 - lr: 0.0010\n",
            "Epoch 6/20\n",
            "100/100 [==============================] - ETA: 0s - loss: 0.1890 - acc: 0.9314\n",
            "Epoch 00006: val_acc did not improve from 0.92848\n",
            "100/100 [==============================] - 73s 738ms/step - loss: 0.1890 - acc: 0.9314 - val_loss: 0.1898 - val_acc: 0.9247 - lr: 0.0010\n",
            "Epoch 7/20\n",
            "100/100 [==============================] - ETA: 0s - loss: 0.1721 - acc: 0.9281\n",
            "Epoch 00007: val_acc did not improve from 0.92848\n",
            "100/100 [==============================] - 72s 728ms/step - loss: 0.1721 - acc: 0.9281 - val_loss: 0.2005 - val_acc: 0.9228 - lr: 0.0010\n",
            "Epoch 8/20\n",
            "100/100 [==============================] - ETA: 0s - loss: 0.1779 - acc: 0.9269\n",
            "Epoch 00008: val_acc improved from 0.92848 to 0.93038, saving model to /content/drive/MyDrive/AI/01.Kaggle/Chest_X_ray_image/data/chest_xray/ckpt_model/ep08-loss0.1779-acc0.9269-val_loss0.1779-val_acc0.9304.h5\n",
            "100/100 [==============================] - 70s 706ms/step - loss: 0.1779 - acc: 0.9269 - val_loss: 0.1779 - val_acc: 0.9304 - lr: 0.0010\n",
            "Epoch 9/20\n",
            "100/100 [==============================] - ETA: 0s - loss: 0.1657 - acc: 0.9320\n",
            "Epoch 00009: val_acc did not improve from 0.93038\n",
            "100/100 [==============================] - 69s 694ms/step - loss: 0.1657 - acc: 0.9320 - val_loss: 0.2017 - val_acc: 0.9171 - lr: 0.0010\n",
            "Epoch 10/20\n",
            "100/100 [==============================] - ETA: 0s - loss: 0.1658 - acc: 0.9350\n",
            "Epoch 00010: val_acc did not improve from 0.93038\n",
            "100/100 [==============================] - 69s 694ms/step - loss: 0.1658 - acc: 0.9350 - val_loss: 0.1803 - val_acc: 0.9272 - lr: 0.0010\n",
            "Epoch 11/20\n",
            "100/100 [==============================] - ETA: 0s - loss: 0.1785 - acc: 0.9263\n",
            "Epoch 00011: val_acc did not improve from 0.93038\n",
            "100/100 [==============================] - 69s 696ms/step - loss: 0.1785 - acc: 0.9263 - val_loss: 0.1823 - val_acc: 0.9184 - lr: 0.0010\n",
            "Epoch 12/20\n",
            "100/100 [==============================] - ETA: 0s - loss: 0.1718 - acc: 0.9370\n",
            "Epoch 00012: val_acc improved from 0.93038 to 0.93165, saving model to /content/drive/MyDrive/AI/01.Kaggle/Chest_X_ray_image/data/chest_xray/ckpt_model/ep12-loss0.1718-acc0.9370-val_loss0.1749-val_acc0.9316.h5\n",
            "100/100 [==============================] - 69s 694ms/step - loss: 0.1718 - acc: 0.9370 - val_loss: 0.1749 - val_acc: 0.9316 - lr: 0.0010\n",
            "Epoch 13/20\n",
            "100/100 [==============================] - ETA: 0s - loss: 0.1786 - acc: 0.9276\n",
            "Epoch 00013: val_acc did not improve from 0.93165\n",
            "100/100 [==============================] - 70s 698ms/step - loss: 0.1786 - acc: 0.9276 - val_loss: 0.1761 - val_acc: 0.9285 - lr: 0.0010\n",
            "Epoch 14/20\n",
            "100/100 [==============================] - ETA: 0s - loss: 0.1590 - acc: 0.9369\n",
            "Epoch 00014: val_acc did not improve from 0.93165\n",
            "100/100 [==============================] - 70s 704ms/step - loss: 0.1590 - acc: 0.9369 - val_loss: 0.1955 - val_acc: 0.9222 - lr: 0.0010\n",
            "Epoch 15/20\n",
            "100/100 [==============================] - ETA: 0s - loss: 0.1597 - acc: 0.9427\n",
            "Epoch 00015: val_acc improved from 0.93165 to 0.93987, saving model to /content/drive/MyDrive/AI/01.Kaggle/Chest_X_ray_image/data/chest_xray/ckpt_model/ep15-loss0.1597-acc0.9427-val_loss0.1689-val_acc0.9399.h5\n",
            "100/100 [==============================] - 70s 702ms/step - loss: 0.1597 - acc: 0.9427 - val_loss: 0.1689 - val_acc: 0.9399 - lr: 0.0010\n",
            "Epoch 16/20\n",
            "100/100 [==============================] - ETA: 0s - loss: 0.1661 - acc: 0.9369\n",
            "Epoch 00016: val_acc did not improve from 0.93987\n",
            "100/100 [==============================] - 69s 698ms/step - loss: 0.1661 - acc: 0.9369 - val_loss: 0.1639 - val_acc: 0.9323 - lr: 0.0010\n",
            "Epoch 17/20\n",
            "100/100 [==============================] - ETA: 0s - loss: 0.1598 - acc: 0.9344\n",
            "Epoch 00017: val_acc did not improve from 0.93987\n",
            "100/100 [==============================] - 68s 681ms/step - loss: 0.1598 - acc: 0.9344 - val_loss: 0.1752 - val_acc: 0.9348 - lr: 0.0010\n",
            "Epoch 18/20\n",
            "100/100 [==============================] - ETA: 0s - loss: 0.1657 - acc: 0.9350\n",
            "Epoch 00018: val_acc did not improve from 0.93987\n",
            "100/100 [==============================] - 69s 694ms/step - loss: 0.1657 - acc: 0.9350 - val_loss: 0.1574 - val_acc: 0.9399 - lr: 0.0010\n",
            "Epoch 19/20\n",
            "100/100 [==============================] - ETA: 0s - loss: 0.1534 - acc: 0.9465\n",
            "Epoch 00019: val_acc did not improve from 0.93987\n",
            "100/100 [==============================] - 67s 677ms/step - loss: 0.1534 - acc: 0.9465 - val_loss: 0.1742 - val_acc: 0.9329 - lr: 0.0010\n",
            "Epoch 20/20\n",
            "100/100 [==============================] - ETA: 0s - loss: 0.1527 - acc: 0.9402\n",
            "Epoch 00020: val_acc did not improve from 0.93987\n",
            "100/100 [==============================] - 68s 679ms/step - loss: 0.1527 - acc: 0.9402 - val_loss: 0.2449 - val_acc: 0.8905 - lr: 0.0010\n"
          ]
        }
      ]
    },
    {
      "cell_type": "code",
      "source": [
        "import matplotlib.pyplot as plt\n",
        "# summarize history for accuracy\n",
        "plt.plot(history.history['acc'])\n",
        "plt.plot(history.history['val_acc'])\n",
        "plt.title('model acc')\n",
        "plt.ylabel('accuracy')\n",
        "plt.xlabel('epoch')\n",
        "plt.legend(['train', 'test'], loc='upper left')\n",
        "plt.show()\n",
        "\n",
        "# summarize history for loss\n",
        "plt.plot(history.history['loss'])\n",
        "plt.plot(history.history['val_loss'])\n",
        "plt.title('model loss')\n",
        "plt.ylabel('loss')\n",
        "plt.xlabel('epoch')\n",
        "plt.legend(['train', 'test'], loc='upper left')\n",
        "plt.show()"
      ],
      "metadata": {
        "colab": {
          "base_uri": "https://localhost:8080/",
          "height": 573
        },
        "id": "tDf3cioq6T8j",
        "outputId": "1033b306-8a17-4c31-b35b-2ccff8d58868"
      },
      "execution_count": 14,
      "outputs": [
        {
          "output_type": "display_data",
          "data": {
            "image/png": "[encoded data removed]",
            "text/plain": [
              "<Figure size 432x288 with 1 Axes>"
            ]
          },
          "metadata": {
            "needs_background": "light"
          }
        },
        {
          "output_type": "display_data",
          "data": {
            "image/png": "[encoded data removed]",
            "text/plain": [
              "<Figure size 432x288 with 1 Axes>"
            ]
          },
          "metadata": {
            "needs_background": "light"
          }
        }
      ]
    },
    {
      "cell_type": "code",
      "source": [
        ""
      ],
      "metadata": {
        "id": "nKeiWc8YE2Hk"
      },
      "execution_count": null,
      "outputs": []
    }
  ]
}
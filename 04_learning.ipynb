{
  "nbformat": 4,
  "nbformat_minor": 0,
  "metadata": {
    "colab": {
      "name": "04.learning.ipynb",
      "provenance": [],
      "collapsed_sections": [],
      "authorship_tag": "ABX9TyOxpy/KFPfAlDMhbXf6fcz/",
      "include_colab_link": true
    },
    "kernelspec": {
      "name": "python3",
      "display_name": "Python 3"
    },
    "language_info": {
      "name": "python"
    },
    "accelerator": "GPU"
  },
  "cells": [
    {
      "cell_type": "markdown",
      "metadata": {
        "id": "view-in-github",
        "colab_type": "text"
      },
      "source": [
        "<a href=\"https://colab.research.google.com/github/hwanython/kaggle-chestXray-penumonia/blob/main/04_learning.ipynb\" target=\"_parent\"><img src=\"https://colab.research.google.com/assets/colab-badge.svg\" alt=\"Open In Colab\"/></a>"
      ]
    },
    {
      "cell_type": "code",
      "source": [
        "from google.colab import drive\n",
        "drive.mount('/content/drive')"
      ],
      "metadata": {
        "colab": {
          "base_uri": "https://localhost:8080/"
        },
        "id": "N7S9AEtyS4ry",
        "outputId": "b7f9fc88-5881-4afd-f9ea-8faaca45f01f"
      },
      "execution_count": null,
      "outputs": [
        {
          "output_type": "stream",
          "name": "stdout",
          "text": [
            "Mounted at /content/drive\n"
          ]
        }
      ]
    },
    {
      "cell_type": "code",
      "execution_count": null,
      "metadata": {
        "id": "YwW_TMnpLaUD"
      },
      "outputs": [],
      "source": [
        "import tensorflow.keras\n",
        "import os\n",
        "from tensorflow.keras.preprocessing import image_dataset_from_directory\n",
        "from tensorflow.keras.preprocessing.image import ImageDataGenerator"
      ]
    },
    {
      "cell_type": "code",
      "source": [
        "data_dir = '/content/drive/MyDrive/AI/01.Kaggle/Chest_X_ray_image/data/chest_xray'\n",
        "train_dir = os.path.join(data_dir, 'train')\n",
        "val_dir = os.path.join(data_dir, 'val')"
      ],
      "metadata": {
        "id": "a2QfdRY2Sg2x"
      },
      "execution_count": null,
      "outputs": []
    },
    {
      "cell_type": "code",
      "source": [
        "batch_size = 16\n",
        "epochs = 15\n",
        "IMG_HEIGHT = 150\n",
        "IMG_WIDTH = 150"
      ],
      "metadata": {
        "id": "6hFLLMZjvOHH"
      },
      "execution_count": null,
      "outputs": []
    },
    {
      "cell_type": "code",
      "source": [
        "train_datagen = ImageDataGenerator(rescale=1./255, shear_range=10, zoom_range=0.2, horizontal_flip=True, width_shift_range=0.2)\n",
        "\n",
        "train_generator = train_datagen.flow_from_directory(\n",
        "    train_dir, shuffle=True,\n",
        "    target_size=(IMG_HEIGHT,IMG_WIDTH),\n",
        "    batch_size = batch_size,\n",
        "    class_mode ='binary'\n",
        ")\n",
        "val_generator = train_datagen.flow_from_directory(\n",
        "    val_dir, shuffle=True,\n",
        "    target_size=(IMG_HEIGHT,IMG_WIDTH),\n",
        "    batch_size = batch_size,\n",
        "    class_mode ='binary'\n",
        ")"
      ],
      "metadata": {
        "colab": {
          "base_uri": "https://localhost:8080/"
        },
        "id": "NLUZ9V4EMgzc",
        "outputId": "475314e7-241e-4d36-fea6-839717738cda"
      },
      "execution_count": null,
      "outputs": [
        {
          "output_type": "stream",
          "name": "stdout",
          "text": [
            "Found 3652 images belonging to 2 classes.\n",
            "Found 1580 images belonging to 2 classes.\n"
          ]
        }
      ]
    },
    {
      "cell_type": "code",
      "source": [
        "from tensorflow.keras.applications import VGG16\n",
        "from tensorflow.keras import layers\n",
        "from tensorflow.keras.layers import Dropout, BatchNormalization, GlobalAveragePooling2D, Conv2D, MaxPooling2D, Flatten, Dense\n",
        "from tensorflow.keras.models import Model, Sequential\n",
        "from tensorflow.keras.optimizers import Adam\n",
        "from tensorflow.keras.regularizers import L2"
      ],
      "metadata": {
        "id": "W0T4f7QjS1ar"
      },
      "execution_count": null,
      "outputs": []
    },
    {
      "cell_type": "code",
      "source": [
        "conv_base = VGG16(include_top = False,weights='imagenet')\n",
        "for i in conv_base.layers:\n",
        "  i.trainable =False\n",
        "X = conv_base.output\n",
        "X = tensorflow.keras.layers.GlobalAveragePooling2D()(X)\n",
        "X = tensorflow.keras.layers.Dense(128, activation='relu')(X)\n",
        "prediction_layer = tensorflow.keras.layers.Dense(1, activation='sigmoid')(X)\n",
        "\n",
        "model = tensorflow.keras.Model(conv_base.input, prediction_layer)\n",
        "\n",
        "model.summary()"
      ],
      "metadata": {
        "colab": {
          "base_uri": "https://localhost:8080/"
        },
        "id": "eFQhIYubUh6K",
        "outputId": "9d66402e-d969-41c4-c31f-ebda02e5db21"
      },
      "execution_count": null,
      "outputs": [
        {
          "output_type": "stream",
          "name": "stdout",
          "text": [
            "Downloading data from https://storage.googleapis.com/tensorflow/keras-applications/vgg16/vgg16_weights_tf_dim_ordering_tf_kernels_notop.h5\n",
            "58892288/58889256 [==============================] - 1s 0us/step\n",
            "58900480/58889256 [==============================] - 1s 0us/step\n",
            "Model: \"model\"\n",
            "_________________________________________________________________\n",
            " Layer (type)                Output Shape              Param #   \n",
            "=================================================================\n",
            " input_1 (InputLayer)        [(None, None, None, 3)]   0         \n",
            "                                                                 \n",
            " block1_conv1 (Conv2D)       (None, None, None, 64)    1792      \n",
            "                                                                 \n",
            " block1_conv2 (Conv2D)       (None, None, None, 64)    36928     \n",
            "                                                                 \n",
            " block1_pool (MaxPooling2D)  (None, None, None, 64)    0         \n",
            "                                                                 \n",
            " block2_conv1 (Conv2D)       (None, None, None, 128)   73856     \n",
            "                                                                 \n",
            " block2_conv2 (Conv2D)       (None, None, None, 128)   147584    \n",
            "                                                                 \n",
            " block2_pool (MaxPooling2D)  (None, None, None, 128)   0         \n",
            "                                                                 \n",
            " block3_conv1 (Conv2D)       (None, None, None, 256)   295168    \n",
            "                                                                 \n",
            " block3_conv2 (Conv2D)       (None, None, None, 256)   590080    \n",
            "                                                                 \n",
            " block3_conv3 (Conv2D)       (None, None, None, 256)   590080    \n",
            "                                                                 \n",
            " block3_pool (MaxPooling2D)  (None, None, None, 256)   0         \n",
            "                                                                 \n",
            " block4_conv1 (Conv2D)       (None, None, None, 512)   1180160   \n",
            "                                                                 \n",
            " block4_conv2 (Conv2D)       (None, None, None, 512)   2359808   \n",
            "                                                                 \n",
            " block4_conv3 (Conv2D)       (None, None, None, 512)   2359808   \n",
            "                                                                 \n",
            " block4_pool (MaxPooling2D)  (None, None, None, 512)   0         \n",
            "                                                                 \n",
            " block5_conv1 (Conv2D)       (None, None, None, 512)   2359808   \n",
            "                                                                 \n",
            " block5_conv2 (Conv2D)       (None, None, None, 512)   2359808   \n",
            "                                                                 \n",
            " block5_conv3 (Conv2D)       (None, None, None, 512)   2359808   \n",
            "                                                                 \n",
            " block5_pool (MaxPooling2D)  (None, None, None, 512)   0         \n",
            "                                                                 \n",
            " global_average_pooling2d (G  (None, 512)              0         \n",
            " lobalAveragePooling2D)                                          \n",
            "                                                                 \n",
            " dense (Dense)               (None, 128)               65664     \n",
            "                                                                 \n",
            " dense_1 (Dense)             (None, 1)                 129       \n",
            "                                                                 \n",
            "=================================================================\n",
            "Total params: 14,780,481\n",
            "Trainable params: 65,793\n",
            "Non-trainable params: 14,714,688\n",
            "_________________________________________________________________\n"
          ]
        }
      ]
    },
    {
      "cell_type": "code",
      "source": [
        "model.compile(optimizer='adam',\n",
        "              loss='binary_crossentropy',\n",
        "              metrics=['acc'])"
      ],
      "metadata": {
        "id": "bKjJlU7209cW"
      },
      "execution_count": null,
      "outputs": []
    },
    {
      "cell_type": "markdown",
      "source": [
        "# 콜백 사용"
      ],
      "metadata": {
        "id": "6eLx6O51fqTA"
      }
    },
    {
      "cell_type": "code",
      "source": [
        "from tensorflow.keras.callbacks import ModelCheckpoint, ReduceLROnPlateau, EarlyStopping\n",
        "import os\n",
        "import tensorflow as tf\n",
        "\n",
        "def checkpoint(ckpt_dir, monitor):\n",
        "    if not os.path.exists(ckpt_dir):\n",
        "        os.makedirs(ckpt_dir, exist_ok=True)\n",
        "    path = os.path.join(ckpt_dir, \"ep{epoch:02d}-loss{loss:.4f}-acc{acc:.4f}-val_loss{val_loss:.4f}-val_acc{val_acc:.4f}.h5\")\n",
        "    ckpt = ModelCheckpoint(\n",
        "        filepath=path, monitor=monitor, verbose=1, save_best_only=True,\n",
        "        save_weights_only=False, mode='auto', save_freq='epoch',\n",
        "        options=None)\n",
        "    return ckpt\n",
        "\n",
        "def ES(patience):\n",
        "    callback = EarlyStopping(monitor='val_loss', patience=patience)\n",
        "    return callback\n",
        "    \n",
        "def reducelr():\n",
        "    lr = ReduceLROnPlateau(\n",
        "        monitor='val_loss',\n",
        "        factor=0.1,\n",
        "        patience=12,\n",
        "        min_lr=1e-8\n",
        "    )\n",
        "    return lr"
      ],
      "metadata": {
        "id": "Oz63UbW_ftVr"
      },
      "execution_count": null,
      "outputs": []
    },
    {
      "cell_type": "code",
      "source": [
        "ckpt_dir = '/content/drive/MyDrive/AI/01.Kaggle/Chest_X_ray_image/data/chest_xray/ckpt_model'"
      ],
      "metadata": {
        "id": "sJ-D6DKC-jEc"
      },
      "execution_count": null,
      "outputs": []
    },
    {
      "cell_type": "code",
      "source": [
        "model.fit(\n",
        "    train_generator, \n",
        "    steps_per_epoch = 100,\n",
        "    epochs = 20,\n",
        "    validation_data = val_generator,\n",
        "    verbose=1, callbacks=[checkpoint(ckpt_dir,'val_acc'), ES(10), reducelr()])"
      ],
      "metadata": {
        "colab": {
          "base_uri": "https://localhost:8080/"
        },
        "id": "m0_WRSyaVvdc",
        "outputId": "ad0f3afa-1c0b-4ec5-963e-26f9b0a3b866"
      },
      "execution_count": null,
      "outputs": [
        {
          "output_type": "stream",
          "name": "stdout",
          "text": [
            "Epoch 1/20\n",
            "100/100 [==============================] - ETA: 0s - loss: 0.1631 - acc: 0.9440\n",
            "Epoch 00001: val_acc improved from -inf to 0.92532, saving model to /content/drive/MyDrive/AI/01.Kaggle/Chest_X_ray_image/data/chest_xray/ckpt_model/ep01-loss0.1631-acc0.9440-val_loss0.1759-val_acc0.9253.h5\n",
            "100/100 [==============================] - 70s 693ms/step - loss: 0.1631 - acc: 0.9440 - val_loss: 0.1759 - val_acc: 0.9253 - lr: 0.0010\n",
            "Epoch 2/20\n",
            "100/100 [==============================] - ETA: 0s - loss: 0.1544 - acc: 0.9375\n",
            "Epoch 00002: val_acc improved from 0.92532 to 0.93101, saving model to /content/drive/MyDrive/AI/01.Kaggle/Chest_X_ray_image/data/chest_xray/ckpt_model/ep02-loss0.1544-acc0.9375-val_loss0.1783-val_acc0.9310.h5\n",
            "100/100 [==============================] - 71s 715ms/step - loss: 0.1544 - acc: 0.9375 - val_loss: 0.1783 - val_acc: 0.9310 - lr: 0.0010\n",
            "Epoch 3/20\n",
            "100/100 [==============================] - ETA: 0s - loss: 0.1404 - acc: 0.9427\n",
            "Epoch 00003: val_acc did not improve from 0.93101\n",
            "100/100 [==============================] - 71s 713ms/step - loss: 0.1404 - acc: 0.9427 - val_loss: 0.1862 - val_acc: 0.9234 - lr: 0.0010\n",
            "Epoch 4/20\n",
            "100/100 [==============================] - ETA: 0s - loss: 0.1706 - acc: 0.9307\n",
            "Epoch 00004: val_acc did not improve from 0.93101\n",
            "100/100 [==============================] - 69s 693ms/step - loss: 0.1706 - acc: 0.9307 - val_loss: 0.1915 - val_acc: 0.9247 - lr: 0.0010\n",
            "Epoch 5/20\n",
            "100/100 [==============================] - ETA: 0s - loss: 0.1741 - acc: 0.9294\n",
            "Epoch 00005: val_acc improved from 0.93101 to 0.93544, saving model to /content/drive/MyDrive/AI/01.Kaggle/Chest_X_ray_image/data/chest_xray/ckpt_model/ep05-loss0.1741-acc0.9294-val_loss0.1719-val_acc0.9354.h5\n",
            "100/100 [==============================] - 69s 695ms/step - loss: 0.1741 - acc: 0.9294 - val_loss: 0.1719 - val_acc: 0.9354 - lr: 0.0010\n",
            "Epoch 6/20\n",
            "100/100 [==============================] - ETA: 0s - loss: 0.1600 - acc: 0.9394\n",
            "Epoch 00006: val_acc did not improve from 0.93544\n",
            "100/100 [==============================] - 70s 700ms/step - loss: 0.1600 - acc: 0.9394 - val_loss: 0.1721 - val_acc: 0.9354 - lr: 0.0010\n",
            "Epoch 7/20\n",
            "100/100 [==============================] - ETA: 0s - loss: 0.1742 - acc: 0.9332\n",
            "Epoch 00007: val_acc did not improve from 0.93544\n",
            "100/100 [==============================] - 68s 685ms/step - loss: 0.1742 - acc: 0.9332 - val_loss: 0.1566 - val_acc: 0.9348 - lr: 0.0010\n",
            "Epoch 8/20\n",
            "100/100 [==============================] - ETA: 0s - loss: 0.1504 - acc: 0.9377\n",
            "Epoch 00008: val_acc did not improve from 0.93544\n",
            "100/100 [==============================] - 68s 683ms/step - loss: 0.1504 - acc: 0.9377 - val_loss: 0.1556 - val_acc: 0.9342 - lr: 0.0010\n",
            "Epoch 9/20\n",
            "100/100 [==============================] - ETA: 0s - loss: 0.1316 - acc: 0.9528\n",
            "Epoch 00009: val_acc improved from 0.93544 to 0.94051, saving model to /content/drive/MyDrive/AI/01.Kaggle/Chest_X_ray_image/data/chest_xray/ckpt_model/ep09-loss0.1316-acc0.9528-val_loss0.1514-val_acc0.9405.h5\n",
            "100/100 [==============================] - 67s 676ms/step - loss: 0.1316 - acc: 0.9528 - val_loss: 0.1514 - val_acc: 0.9405 - lr: 0.0010\n",
            "Epoch 10/20\n",
            "100/100 [==============================] - ETA: 0s - loss: 0.1555 - acc: 0.9458\n",
            "Epoch 00010: val_acc did not improve from 0.94051\n",
            "100/100 [==============================] - 68s 681ms/step - loss: 0.1555 - acc: 0.9458 - val_loss: 0.1635 - val_acc: 0.9386 - lr: 0.0010\n",
            "Epoch 11/20\n",
            "100/100 [==============================] - ETA: 0s - loss: 0.1439 - acc: 0.9431\n",
            "Epoch 00011: val_acc did not improve from 0.94051\n",
            "100/100 [==============================] - 68s 687ms/step - loss: 0.1439 - acc: 0.9431 - val_loss: 0.1701 - val_acc: 0.9316 - lr: 0.0010\n",
            "Epoch 12/20\n",
            "100/100 [==============================] - ETA: 0s - loss: 0.1418 - acc: 0.9431\n",
            "Epoch 00012: val_acc did not improve from 0.94051\n",
            "100/100 [==============================] - 69s 689ms/step - loss: 0.1418 - acc: 0.9431 - val_loss: 0.1625 - val_acc: 0.9329 - lr: 0.0010\n",
            "Epoch 13/20\n",
            "100/100 [==============================] - ETA: 0s - loss: 0.1502 - acc: 0.9344\n",
            "Epoch 00013: val_acc did not improve from 0.94051\n",
            "100/100 [==============================] - 67s 674ms/step - loss: 0.1502 - acc: 0.9344 - val_loss: 0.1686 - val_acc: 0.9348 - lr: 0.0010\n",
            "Epoch 14/20\n",
            "100/100 [==============================] - ETA: 0s - loss: 0.1558 - acc: 0.9402\n",
            "Epoch 00014: val_acc did not improve from 0.94051\n",
            "100/100 [==============================] - 67s 676ms/step - loss: 0.1558 - acc: 0.9402 - val_loss: 0.1894 - val_acc: 0.9253 - lr: 0.0010\n",
            "Epoch 15/20\n",
            "100/100 [==============================] - ETA: 0s - loss: 0.1455 - acc: 0.9438\n",
            "Epoch 00015: val_acc did not improve from 0.94051\n",
            "100/100 [==============================] - 68s 687ms/step - loss: 0.1455 - acc: 0.9438 - val_loss: 0.1614 - val_acc: 0.9329 - lr: 0.0010\n",
            "Epoch 16/20\n",
            "100/100 [==============================] - ETA: 0s - loss: 0.1403 - acc: 0.9452\n",
            "Epoch 00016: val_acc did not improve from 0.94051\n",
            "100/100 [==============================] - 67s 674ms/step - loss: 0.1403 - acc: 0.9452 - val_loss: 0.1610 - val_acc: 0.9335 - lr: 0.0010\n",
            "Epoch 17/20\n",
            "100/100 [==============================] - ETA: 0s - loss: 0.1351 - acc: 0.9471\n",
            "Epoch 00017: val_acc did not improve from 0.94051\n",
            "100/100 [==============================] - 66s 666ms/step - loss: 0.1351 - acc: 0.9471 - val_loss: 0.1753 - val_acc: 0.9304 - lr: 0.0010\n",
            "Epoch 18/20\n",
            "100/100 [==============================] - ETA: 0s - loss: 0.1419 - acc: 0.9496\n",
            "Epoch 00018: val_acc did not improve from 0.94051\n",
            "100/100 [==============================] - 68s 682ms/step - loss: 0.1419 - acc: 0.9496 - val_loss: 0.1798 - val_acc: 0.9323 - lr: 0.0010\n",
            "Epoch 19/20\n",
            "100/100 [==============================] - ETA: 0s - loss: 0.1280 - acc: 0.9475\n",
            "Epoch 00019: val_acc did not improve from 0.94051\n",
            "100/100 [==============================] - 68s 678ms/step - loss: 0.1280 - acc: 0.9475 - val_loss: 0.1581 - val_acc: 0.9392 - lr: 0.0010\n"
          ]
        },
        {
          "output_type": "execute_result",
          "data": {
            "text/plain": [
              "<keras.callbacks.History at 0x7f1fc0a92310>"
            ]
          },
          "metadata": {},
          "execution_count": 25
        }
      ]
    }
  ]
}
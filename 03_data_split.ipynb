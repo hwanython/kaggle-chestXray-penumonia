{
  "nbformat": 4,
  "nbformat_minor": 0,
  "metadata": {
    "colab": {
      "name": "03.data_split.ipynb",
      "provenance": [],
      "collapsed_sections": [],
      "authorship_tag": "ABX9TyNxDXqNyv5tc7l49d7FbK1A",
      "include_colab_link": true
    },
    "kernelspec": {
      "name": "python3",
      "display_name": "Python 3"
    },
    "language_info": {
      "name": "python"
    }
  },
  "cells": [
    {
      "cell_type": "markdown",
      "metadata": {
        "id": "view-in-github",
        "colab_type": "text"
      },
      "source": [
        "<a href=\"https://colab.research.google.com/github/hwanython/kaggle-chestXray-penumonia/blob/main/03_data_split.ipynb\" target=\"_parent\"><img src=\"https://colab.research.google.com/assets/colab-badge.svg\" alt=\"Open In Colab\"/></a>"
      ]
    },
    {
      "cell_type": "markdown",
      "source": [
        "# 데이터를 나누어 주어야하는데, val 폴더가 있지만, NORMAL과 PNEUMONIA에 8장씩 밖에 없다. 그래서 데이터를 좀 나눠서 옴길예정\n",
        "\n",
        "#TRAIN:VAL = 7:3"
      ],
      "metadata": {
        "id": "_u4O9B7JjrtC"
      }
    },
    {
      "cell_type": "code",
      "source": [
        "from glob import glob\n",
        "import os\n",
        "import numpy as np\n",
        "import shutil"
      ],
      "metadata": {
        "id": "u_YB0D8NjsaH"
      },
      "execution_count": null,
      "outputs": []
    },
    {
      "cell_type": "code",
      "source": [
        "from google.colab import drive\n",
        "drive.mount('/content/drive')"
      ],
      "metadata": {
        "colab": {
          "base_uri": "https://localhost:8080/"
        },
        "id": "0yQcSF8d-oGj",
        "outputId": "57814dfe-7ce0-4093-9d43-0d749cf17f5a"
      },
      "execution_count": null,
      "outputs": [
        {
          "output_type": "stream",
          "name": "stdout",
          "text": [
            "Mounted at /content/drive\n"
          ]
        }
      ]
    },
    {
      "cell_type": "code",
      "source": [
        "data_dir = '/content/drive/MyDrive/AI/01.Kaggle/Chest_X_ray_image/data/chest_xray'\n",
        "train_dir = os.path.join(data_dir, 'train')\n",
        "test_dir = os.path.join(data_dir, 'test')\n",
        "\n",
        "train_normal_dir = os.path.join(train_dir, \"NORMAL\")\n",
        "train_pneumonia_dir = os.path.join(train_dir, \"PNEUMONIA\")"
      ],
      "metadata": {
        "id": "8uBBBXCE_jSN"
      },
      "execution_count": null,
      "outputs": []
    },
    {
      "cell_type": "code",
      "source": [
        "train_classes = glob(os.path.join(data_dir, \"train\",\"*\"))\n",
        "train_classes"
      ],
      "metadata": {
        "colab": {
          "base_uri": "https://localhost:8080/"
        },
        "id": "WMmrGwBLCp2U",
        "outputId": "6760cf53-2bbf-4060-8bf1-99a0fe05aaa0"
      },
      "execution_count": null,
      "outputs": [
        {
          "output_type": "execute_result",
          "data": {
            "text/plain": [
              "['/content/drive/MyDrive/AI/01.Kaggle/Chest_X_ray_image/data/chest_xray/train/PNEUMONIA',\n",
              " '/content/drive/MyDrive/AI/01.Kaggle/Chest_X_ray_image/data/chest_xray/train/NORMAL']"
            ]
          },
          "metadata": {},
          "execution_count": 20
        }
      ]
    },
    {
      "cell_type": "markdown",
      "source": [
        "\n",
        "아래코드는 따로 폴더를 복사한게 아니라 원래 데이터들 옴긴거라 또 실행하면,,계속 옴겨짐.. "
      ],
      "metadata": {
        "id": "yZSaDvpME8Xc"
      }
    },
    {
      "cell_type": "code",
      "source": [
        "np.random.seed(23424)\n",
        "for train_data_dir in train_classes:\n",
        "  datas = glob(os.path.join(train_data_dir, \"*\"))\n",
        "  val_datas = np.random.choice(datas, size=round(len(datas)*0.3), replace=False)\n",
        "  for val_data in val_datas:\n",
        "    shutil.move(val_data, val_data.replace('train', 'val'))"
      ],
      "metadata": {
        "id": "32cU3DcKDZdr"
      },
      "execution_count": null,
      "outputs": []
    },
    {
      "cell_type": "markdown",
      "source": [
        "# 데이터 확인"
      ],
      "metadata": {
        "id": "OMyFGCiAFGqr"
      }
    },
    {
      "cell_type": "code",
      "source": [
        "val_normal_dir = os.path.join(train_dir.replace(\"train\", \"val\"), \"NORMAL\")\n",
        "val_pneumonia_dir = os.path.join(train_dir.replace(\"train\", \"val\"), \"PNEUMONIA\")\n",
        "\n",
        "train_data = len(os.listdir(train_normal_dir) + os.listdir(train_pneumonia_dir))\n",
        "val_data = len(os.listdir(val_normal_dir) + os.listdir(val_pneumonia_dir))\n",
        "\n",
        "print(\"Train data sample:\", train_data)\n",
        "print(\"Val data sample:\", val_data)\n"
      ],
      "metadata": {
        "colab": {
          "base_uri": "https://localhost:8080/"
        },
        "id": "Aai0gLU4EjEU",
        "outputId": "c9301f49-bc08-48d0-8304-366c83680580"
      },
      "execution_count": null,
      "outputs": [
        {
          "output_type": "stream",
          "name": "stdout",
          "text": [
            "Train data sample: 3652\n",
            "Val data sample: 1580\n"
          ]
        }
      ]
    },
    {
      "cell_type": "code",
      "source": [
        "import matplotlib.pyplot as plt"
      ],
      "metadata": {
        "id": "JBWBDz-kFPvz"
      },
      "execution_count": null,
      "outputs": []
    },
    {
      "cell_type": "code",
      "source": [
        "plt.bar('Train_Data', train_data)\n",
        "plt.bar('Val_Data', val_data); plt.show()"
      ],
      "metadata": {
        "colab": {
          "base_uri": "https://localhost:8080/",
          "height": 265
        },
        "id": "DCbqP2ayHYnT",
        "outputId": "48f682b5-d0d6-43c9-d08a-63b9f1798afe"
      },
      "execution_count": null,
      "outputs": [
        {
          "output_type": "display_data",
          "data": {
            "image/png": "[encoded data removed]",
            "text/plain": [
              "<Figure size 432x288 with 1 Axes>"
            ]
          },
          "metadata": {
            "needs_background": "light"
          }
        }
      ]
    },
    {
      "cell_type": "markdown",
      "source": [
        "#원핫인코딩"
      ],
      "metadata": {
        "id": "Wt1eMahyKGPU"
      }
    },
    {
      "cell_type": "markdown",
      "source": [
        "#NORMAL : 1\n",
        "#PNEUMONIA: 0"
      ],
      "metadata": {
        "id": "igc7_LmsJEFb"
      }
    },
    {
      "cell_type": "code",
      "source": [
        "train_normal_dir = os.path.join(train_dir, \"NORMAL\")\n",
        "train_pneumonia_dir = os.path.join(train_dir, \"PNEUMONIA\")\n",
        "\n",
        "os.rename(train_normal_dir, train_normal_dir.replace(\"NORMAL\",\"1\"))\n",
        "os.rename(train_pneumonia_dir, train_pneumonia_dir.replace(\"PNEUMONIA\",\"0\"))"
      ],
      "metadata": {
        "id": "Htahw6RyJGFy"
      },
      "execution_count": null,
      "outputs": []
    },
    {
      "cell_type": "code",
      "source": [
        "os.rename(val_normal_dir, val_normal_dir.replace(\"NORMAL\",\"1\"))\n",
        "os.rename(val_pneumonia_dir, val_pneumonia_dir.replace(\"PNEUMONIA\",\"0\"))"
      ],
      "metadata": {
        "id": "y0fZvrd_JybD"
      },
      "execution_count": null,
      "outputs": []
    }
  ]
}